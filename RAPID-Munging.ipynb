{
 "cells": [
  {
   "cell_type": "code",
   "execution_count": null,
   "metadata": {},
   "outputs": [],
   "source": [
    "# !pip install awswrangler\n",
    "#restart kernel before using this"
   ]
  },
  {
   "cell_type": "code",
   "execution_count": 2,
   "metadata": {},
   "outputs": [],
   "source": [
    "import boto3\n",
    "import botocore\n",
    "import logging\n",
    "from botocore.exceptions import ClientError\n",
    "import pandas as pd\n",
    "from IPython.display import display, Markdown\n",
    "import awswrangler as wr\n",
    "\n",
    "s3_client = boto3.client('s3')\n",
    "s3_resource = boto3.resource('s3')\n",
    "\n",
    "logging.basicConfig(level=logging.INFO)"
   ]
  },
  {
   "cell_type": "code",
   "execution_count": 3,
   "metadata": {},
   "outputs": [
    {
     "name": "stdout",
     "output_type": "stream",
     "text": [
      "Existing buckets:\n",
      "  aws-glue-scripts-476680029350-eu-west-1\n",
      "  aws-glue-temporary-476680029350-eu-west-1\n",
      "  rapid-dw\n"
     ]
    }
   ],
   "source": [
    "buckets = s3_client.list_buckets()\n",
    "print('Existing buckets:')\n",
    "for bucket in buckets['Buckets']:\n",
    "    print(f'  {bucket[\"Name\"]}')"
   ]
  },
  {
   "cell_type": "code",
   "execution_count": 4,
   "metadata": {},
   "outputs": [
    {
     "name": "stdout",
     "output_type": "stream",
     "text": [
      "Existing buckets containing \"rapid\" string:\n",
      "  rapid-dw\n"
     ]
    }
   ],
   "source": [
    "def list_buckets(match=''):\n",
    "    response = s3_client.list_buckets()\n",
    "    if match:\n",
    "        print(f'Existing buckets containing \"{match}\" string:')\n",
    "    else:\n",
    "        print('All existing buckets:')\n",
    "    for bucket in response['Buckets']:\n",
    "        if match:\n",
    "            if match in bucket[\"Name\"]:\n",
    "                print(f'  {bucket[\"Name\"]}')\n",
    "        else:\n",
    "                print(f'  {bucket[\"Name\"]}')\n",
    "\n",
    "list_buckets(match='rapid')"
   ]
  },
  {
   "cell_type": "code",
   "execution_count": 5,
   "metadata": {},
   "outputs": [
    {
     "name": "stdout",
     "output_type": "stream",
     "text": [
      "2020-10-08_Gesamt/POCTIKWH.EBKVSD\n",
      "2020-10-08_Gesamt/POCTIKWH.MAKT.G\n",
      "2020-10-08_Gesamt/POCTIKWH.MARA.G\n",
      "2020-10-08_Gesamt/POCTIKWH.VSFR.G\n",
      "2020-10-08_Gesamt/POCTIKWH.VSKB.G\n",
      "2020-10-08_Gesamt/POCTIKWH.VSKL.G\n",
      "2020-10-08_Gesamt/POCTIKWH.VSKN.G\n",
      "2020-10-08_Gesamt/POCTIKWH.VSKT.A\n",
      "2020-10-08_Gesamt/POCTIKWH.VSKT.G\n",
      "2020-10-08_Gesamt/POCTIKWH.VSSP.G\n",
      "2020-10-08_Gesamt/POCTIKWH.VSTE.G\n",
      "2020-10-08_Gesamt/POCTIKWH.VSVA.G\n",
      "2020-10-08_Gesamt/POCTIKWH.VSVT.A\n",
      "2020-10-08_Gesamt/POCTIKWH.VSVT.G\n"
     ]
    }
   ],
   "source": [
    "bucket_resource = s3_resource.Bucket('rapid-dw')\n",
    "for file in bucket_resource.objects.all():\n",
    "    print(f'{file.key}')"
   ]
  },
  {
   "cell_type": "code",
   "execution_count": 6,
   "metadata": {},
   "outputs": [],
   "source": [
    "def download_file(file_name, bucket, object_name=None):\n",
    "    \"\"\"Download a file from an S3 bucket\n",
    "\n",
    "    :param file_name: File to upload\n",
    "    :param bucket: Bucket to upload to\n",
    "    :param object_name: S3 object name. If not specified then file_name is used\n",
    "    :return: True if file was uploaded, else False\n",
    "    \"\"\"\n",
    "\n",
    "    # If S3 object_name was not specified, use file_name\n",
    "    if object_name is None:\n",
    "        object_name = file_name\n",
    "\n",
    "    # Download the file\n",
    "    s3_client = boto3.client('s3')\n",
    "    \n",
    "    logging.debug(f'bucket={bucket}\\nobject_name={object_name}\\nfile_name={file_name}')\n",
    "    \n",
    "    try:\n",
    "        response = s3_client.download_file(bucket, object_name, file_name)\n",
    "    except ClientError as e:\n",
    "        logging.error(e)\n",
    "        return False\n",
    "    return True\n",
    "\n",
    "bucket = 'rapid-dw'\n",
    "folder_name = '2020-10-08_Gesamt'\n",
    "file_name = 'POCTIKWH.VSKT.G'\n",
    "object_name = folder_name + '/' + file_name\n",
    "# response = download_file(file_name, bucket, object_name)\n",
    "\n",
    "# print(f'reponse={response}')"
   ]
  },
  {
   "cell_type": "code",
   "execution_count": 7,
   "metadata": {},
   "outputs": [],
   "source": [
    "bucket='rapid-dw'\n",
    "file='2020-10-08_Gesamt/POCTIKWH.VSVA.G'\n",
    "data_source = {\n",
    "        'Bucket': bucket,\n",
    "        'Key': file\n",
    "    }\n",
    "# Generate the URL to get Key from Bucket\n",
    "url = s3_client.generate_presigned_url(\n",
    "    ClientMethod = 'get_object',\n",
    "    Params = data_source\n",
    ")\n",
    "\n",
    "#data = pd.read_csv(url, nrows=10)\n",
    "# widths = [4,1,18,32,12,32,8,8,1,18,13,3,1,5,4,2,1,2,1,3,3,6,3,4,1,1,6,1,3,1,3,3,13,1,4,4,4,4,4,4,4,4,4,4,2,2,2,1,6,6,1,1,12,30,8,8,8,8,8,8,1,1,3,3,60,1,1,1,1,32,8,3,8,2,8,2,1,1]\n",
    "# header = ['satzart','uid','classf','pvguid','aennr','pnguid','pvname','pvtype','loekz','matnr','quant','qunit','fe_ae_st','abw_schl','aggr','auf_schl','dummy15','dmu_rel','mee','mod','paket_kz','dummy1','dummy2','kostgr','gew_stk','tma_klag','arb_pkt','kd_kz','mod_z','konstgr','se_team','pr_stkz','taed_bem','dummy4','dummy5','dummy6','dummy7','dummy8','dummy9','dummy10','dummy11','dummy12','dummy13','wwfall','wahlw_nr','vwwwfall','vwwwnr','leerteil','dummy18','dummy19','dummy20','dummy_v','dummy22','dummy23','p_target_date','g_target_date','w_target_date','b_target_date','r_target_date','d_target_date','bereich','u_abteil','anlart','se_teamp','pvtext','mj_ein','mj_aus','bkflg','bk_status','dummy3','seqcnt','kar_aenr','vsi_b_date','vsi_b_chg','vsi_k_date','vsi_k_chg','prio_mark','herkunft']\n",
    "#data = pd.read_fwf(url, widths=widths, header=None, nrows=10)\n",
    "# data = pd.read_fwf(url, widths=widths, header=None)\n",
    "# data.info()"
   ]
  },
  {
   "cell_type": "code",
   "execution_count": 8,
   "metadata": {},
   "outputs": [],
   "source": [
    "header_vskl=['satzart','uid','classf','class','clintf','clint','klagr','txtbz']\n",
    "header_vskb=['satzart','uid','classf','pnguid_s','pnguid_v','rank','herkunft']\n",
    "header_vsva=['satzart','uid','classf','pvguid','aennr','pnguid','pvname','pvtype','loekz','matnr','quant','qunit','fe_ae_st','abw_schl','aggr','auf_schl','dummy15','dmu_rel','mee','mod','paket_kz','dummy1','dummy2','kostgr','gew_stk','tma_klag','arb_pkt','kd_kz','mod_z','konstgr','se_team','pr_stkz','taed_bem','dummy4','dummy5','dummy6','dummy7','dummy8','dummy9','dummy10','dummy11','dummy12','dummy13','wwfall','wahlw_nr','vwwwfall','vwwwnr','leerteil','dummy18','dummy19','dummy20','dummy_v','dummy22','dummy23','p_target_date','g_target_date','w_target_date','b_target_date','r_target_date','d_target_date','bereich','u_abteil','anlart','se_teamp','pvtext','mj_ein','mj_aus','bkflg','bk_status','dummy3','seqcnt','kar_aenr','vsi_b_date','vsi_b_chg','vsi_k_date','vsi_k_chg','prio_mark','herkunft']\n",
    "header_vskt=['satzart','uid','pnguid','spras','pntext','herkunft']\n",
    "header_vskn=['satzart','uid','pnguid','classf','pname','pntype','class','geb_aufl','kostgr_k','konstr_k','st_name','se_teamk','pr_stkzk','fogs_kz','bereichk','uabteilk','pfr_kz','pfr_user','pfr_komm','gfr_kz','gfr_user','gfr_komm','wfr_kz','wfr_user','wfr_komm','bfr_kz','bfr_user','bfr_komm','rfr_kz','rfr_user','rfr_komm','dfr_kz','dfr_user','dfr_komm','kbblock','mkguid','pntext','diag_adr','herkunft','pnguid_q','kps_clint','kps_class']\n",
    "header_vssp=['satzart','uid','classf','pvguid','aennr','splitcnt','pnguidnr','einsatzint','einsatzext','entfallint','entfallext','tegue','avon_status','vws_tmp','vws','col_pnguid','col_bst','col_family','takt','umfang','urguid','teileart','verbr1','verbr2','verbr3','verbr4','verbr5','verbr6','fert1','fert2','fert3','herkunft','bea_st','taed_bem','taktvo','taktna','feaest_t']\n",
    "header_vste=['satzart','uid','classf','pvguid','aennr','splitcnt','datum_pvs_low','datum_ns_low','datum_sop_low','datub_pvs_fr','datub_ns_fr','datub_sop_fr','datub_pvs_sp','datub_ns_sp','datub_sop_sp','herkunft','errflg']\n",
    "header_vsfr=['satzart','uid','pvguid','classf','aennr','splitcnt','frart','value','vgnum','infotr','franr','frnnr','fdate','ftime','aeind','dmupru','dummy','ftarg','frsta','frzte','marke','afreis','frben','herkunft']\n",
    "widths_vskl=[4,1,18,18,10,10,10,60]\n",
    "widths_vskb=[4,1,18,32,32,4,1]\n",
    "widths_vsva=[4,1,18,32,12,32,8,8,1,18,13,3,1,5,4,2,1,2,1,3,3,6,3,4,1,1,6,1,3,1,3,3,13,1,4,4,4,4,4,4,4,4,4,4,2,2,2,1,6,6,1,1,12,30,8,8,8,8,8,8,1,1,3,3,60,1,1,1,1,32,8,3,8,2,8,2,1,1]\n",
    "widths_vskt=[4,1,32,2,60,1]\n",
    "widths_vskn=[4,1,32,18,40,8,18,1,4,1,36,3,3,2,1,1,1,12,80,1,12,80,1,12,80,1,12,80,1,12,80,1,12,80,9,32,60,4,1,32,10,18]\n",
    "widths_vssp=[4,1,18,32,12,8,6,12,30,12,30,80,4,9,9,32,1,3,6,3,32,1,4,4,4,4,4,4,4,4,4,1,1,13,6,6,1]\n",
    "widths_vste=[4,1,18,32,12,8,8,8,8,8,8,8,8,8,8,1,1]\n",
    "widths_vsfr=[4,1,32,18,12,8,1,3,18,18,12,2,8,6,4,3,40,8,10,8,20,12,80,1]"
   ]
  },
  {
   "cell_type": "code",
   "execution_count": 9,
   "metadata": {},
   "outputs": [
    {
     "name": "stdout",
     "output_type": "stream",
     "text": [
      "<class 'pandas.core.frame.DataFrame'>\n",
      "RangeIndex: 75020 entries, 0 to 75019\n",
      "Data columns (total 17 columns):\n",
      " #   Column         Non-Null Count  Dtype  \n",
      "---  ------         --------------  -----  \n",
      " 0   satzart        75020 non-null  object \n",
      " 1   uid            0 non-null      float64\n",
      " 2   classf         75020 non-null  object \n",
      " 3   pvguid         75020 non-null  object \n",
      " 4   aennr          75020 non-null  int64  \n",
      " 5   splitcnt       75020 non-null  int64  \n",
      " 6   datum_pvs_low  75020 non-null  int64  \n",
      " 7   datum_ns_low   75020 non-null  int64  \n",
      " 8   datum_sop_low  75020 non-null  int64  \n",
      " 9   datub_pvs_fr   75020 non-null  int64  \n",
      " 10  datub_ns_fr    75020 non-null  int64  \n",
      " 11  datub_sop_fr   75020 non-null  int64  \n",
      " 12  datub_pvs_sp   75020 non-null  int64  \n",
      " 13  datub_ns_sp    75020 non-null  int64  \n",
      " 14  datub_sop_sp   75020 non-null  int64  \n",
      " 15  herkunft       75020 non-null  object \n",
      " 16  errflg         2394 non-null   object \n",
      "dtypes: float64(1), int64(11), object(5)\n",
      "memory usage: 9.7+ MB\n"
     ]
    }
   ],
   "source": [
    "def read_file(bucket, file, widths=None, header=None):\n",
    "    data_source = {\n",
    "            'Bucket': bucket,\n",
    "            'Key': file\n",
    "        }\n",
    "    # Generate the URL to get Key from Bucket\n",
    "    url = s3_client.generate_presigned_url(\n",
    "        ClientMethod = 'get_object',\n",
    "        Params = data_source\n",
    "    )\n",
    "\n",
    "    compression=\"infer\"\n",
    "    encoding=\"utf-8\"\n",
    "    #dataframe = pd.read_fwf(url, widths=widths, header=header, nrows=10)\n",
    "    dataframe = pd.read_fwf(url, widths=widths, header=None, names=header, compression=compression, encoding=encoding)\n",
    "    return dataframe\n",
    "    \n",
    "result = read_file('rapid-dw','2020-10-08_Gesamt/POCTIKWH.VSTE.G', widths=widths_vste, header=header_vste)\n",
    "result.info()"
   ]
  },
  {
   "cell_type": "code",
   "execution_count": null,
   "metadata": {},
   "outputs": [],
   "source": [
    "result.head(1)"
   ]
  },
  {
   "cell_type": "code",
   "execution_count": null,
   "metadata": {},
   "outputs": [],
   "source": [
    "# file_name=\"test.parquet\"\n",
    "# result.to_parquet(file_name, engine=\"pyarrow\")"
   ]
  },
  {
   "cell_type": "code",
   "execution_count": 11,
   "metadata": {},
   "outputs": [
    {
     "data": {
      "text/plain": [
       "{'paths': ['s3://rapid-dw/working/inbound/vste.parquet'],\n",
       " 'partitions_values': {}}"
      ]
     },
     "execution_count": 11,
     "metadata": {},
     "output_type": "execute_result"
    }
   ],
   "source": [
    "path = \"working/inbound/vste.parquet\"\n",
    "wr.s3.to_parquet(\n",
    "    df=result,\n",
    "    path=\"s3://\" + bucket + \"/\" + path\n",
    ")\n",
    "\n"
   ]
  },
  {
   "cell_type": "code",
   "execution_count": null,
   "metadata": {},
   "outputs": [],
   "source": [
    "# out = pd.read_parquet(file_name, engine=\"pyarrow\")\n",
    "# out.info()"
   ]
  }
 ],
 "metadata": {
  "kernelspec": {
   "display_name": "conda_python3",
   "language": "python",
   "name": "conda_python3"
  },
  "language_info": {
   "codemirror_mode": {
    "name": "ipython",
    "version": 3
   },
   "file_extension": ".py",
   "mimetype": "text/x-python",
   "name": "python",
   "nbconvert_exporter": "python",
   "pygments_lexer": "ipython3",
   "version": "3.6.10"
  }
 },
 "nbformat": 4,
 "nbformat_minor": 4
}
