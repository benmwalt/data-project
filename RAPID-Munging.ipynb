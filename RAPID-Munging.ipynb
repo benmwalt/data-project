{
 "cells": [
  {
   "cell_type": "code",
   "execution_count": null,
   "metadata": {},
   "outputs": [],
   "source": [
    "# !pip install awswrangler\n",
    "#restart kernel before using this"
   ]
  },
  {
   "cell_type": "code",
   "execution_count": 1,
   "metadata": {},
   "outputs": [],
   "source": [
    "import boto3\n",
    "import botocore\n",
    "import logging\n",
    "from botocore.exceptions import ClientError\n",
    "import pandas as pd\n",
    "from IPython.display import display, Markdown\n",
    "import awswrangler as wr\n",
    "\n",
    "s3_client = boto3.client('s3')\n",
    "s3_resource = boto3.resource('s3')\n",
    "\n",
    "logging.basicConfig(level=logging.INFO)"
   ]
  },
  {
   "cell_type": "code",
   "execution_count": 2,
   "metadata": {},
   "outputs": [
    {
     "name": "stdout",
     "output_type": "stream",
     "text": [
      "Existing buckets:\n",
      "  aws-glue-scripts-476680029350-eu-west-1\n",
      "  aws-glue-temporary-476680029350-eu-west-1\n",
      "  rapid-dw\n"
     ]
    }
   ],
   "source": [
    "buckets = s3_client.list_buckets()\n",
    "print('Existing buckets:')\n",
    "for bucket in buckets['Buckets']:\n",
    "    print(f'  {bucket[\"Name\"]}')"
   ]
  },
  {
   "cell_type": "code",
   "execution_count": 3,
   "metadata": {},
   "outputs": [
    {
     "name": "stdout",
     "output_type": "stream",
     "text": [
      "Existing buckets containing \"rapid\" string:\n",
      "  rapid-dw\n"
     ]
    }
   ],
   "source": [
    "def list_buckets(match=''):\n",
    "    response = s3_client.list_buckets()\n",
    "    if match:\n",
    "        print(f'Existing buckets containing \"{match}\" string:')\n",
    "    else:\n",
    "        print('All existing buckets:')\n",
    "    for bucket in response['Buckets']:\n",
    "        if match:\n",
    "            if match in bucket[\"Name\"]:\n",
    "                print(f'  {bucket[\"Name\"]}')\n",
    "        else:\n",
    "                print(f'  {bucket[\"Name\"]}')\n",
    "\n",
    "list_buckets(match='rapid')"
   ]
  },
  {
   "cell_type": "code",
   "execution_count": 4,
   "metadata": {},
   "outputs": [
    {
     "name": "stdout",
     "output_type": "stream",
     "text": [
      "2020-10-08_Gesamt/POCTIKWH.EBKVSD\n",
      "2020-10-08_Gesamt/POCTIKWH.MAKT.G\n",
      "2020-10-08_Gesamt/POCTIKWH.MARA.G\n",
      "2020-10-08_Gesamt/POCTIKWH.VSFR.G\n",
      "2020-10-08_Gesamt/POCTIKWH.VSKB.G\n",
      "2020-10-08_Gesamt/POCTIKWH.VSKL.G\n",
      "2020-10-08_Gesamt/POCTIKWH.VSKN.G\n",
      "2020-10-08_Gesamt/POCTIKWH.VSKT.A\n",
      "2020-10-08_Gesamt/POCTIKWH.VSKT.G\n",
      "2020-10-08_Gesamt/POCTIKWH.VSSP.G\n",
      "2020-10-08_Gesamt/POCTIKWH.VSTE.G\n",
      "2020-10-08_Gesamt/POCTIKWH.VSVA.G\n",
      "2020-10-08_Gesamt/POCTIKWH.VSVT.A\n",
      "2020-10-08_Gesamt/POCTIKWH.VSVT.G\n",
      "working/inbound/vste.parquet\n"
     ]
    }
   ],
   "source": [
    "bucket_resource = s3_resource.Bucket('rapid-dw')\n",
    "for file in bucket_resource.objects.all():\n",
    "    print(f'{file.key}')"
   ]
  },
  {
   "cell_type": "code",
   "execution_count": 48,
   "metadata": {},
   "outputs": [],
   "source": [
    "vars=['vskl','vskb','vsva','vskt','vskn','vssp','vste','vsfr']\n",
    "header_vskl=['satzart','uid','classf','class','clintf','clint','klagr','txtbz']\n",
    "header_vskb=['satzart','uid','classf','pnguid_s','pnguid_v','rank','herkunft']\n",
    "header_vsva=['satzart','uid','classf','pvguid','aennr','pnguid','pvname','pvtype','loekz','matnr','quant','qunit','fe_ae_st','abw_schl','aggr','auf_schl','dummy15','dmu_rel','mee','mod','paket_kz','dummy1','dummy2','kostgr','gew_stk','tma_klag','arb_pkt','kd_kz','mod_z','konstgr','se_team','pr_stkz','taed_bem','dummy4','dummy5','dummy6','dummy7','dummy8','dummy9','dummy10','dummy11','dummy12','dummy13','wwfall','wahlw_nr','vwwwfall','vwwwnr','leerteil','dummy18','dummy19','dummy20','dummy_v','dummy22','dummy23','p_target_date','g_target_date','w_target_date','b_target_date','r_target_date','d_target_date','bereich','u_abteil','anlart','se_teamp','pvtext','mj_ein','mj_aus','bkflg','bk_status','dummy3','seqcnt','kar_aenr','vsi_b_date','vsi_b_chg','vsi_k_date','vsi_k_chg','prio_mark','herkunft']\n",
    "header_vskt=['satzart','uid','pnguid','spras','pntext','herkunft']\n",
    "header_vskn=['satzart','uid','pnguid','classf','pname','pntype','class','geb_aufl','kostgr_k','konstr_k','st_name','se_teamk','pr_stkzk','fogs_kz','bereichk','uabteilk','pfr_kz','pfr_user','pfr_komm','gfr_kz','gfr_user','gfr_komm','wfr_kz','wfr_user','wfr_komm','bfr_kz','bfr_user','bfr_komm','rfr_kz','rfr_user','rfr_komm','dfr_kz','dfr_user','dfr_komm','kbblock','mkguid','pntext','diag_adr','herkunft','pnguid_q','kps_clint','kps_class']\n",
    "header_vssp=['satzart','uid','classf','pvguid','aennr','splitcnt','pnguidnr','einsatzint','einsatzext','entfallint','entfallext','tegue','avon_status','vws_tmp','vws','col_pnguid','col_bst','col_family','takt','umfang','urguid','teileart','verbr1','verbr2','verbr3','verbr4','verbr5','verbr6','fert1','fert2','fert3','herkunft','bea_st','taed_bem','taktvo','taktna','feaest_t']\n",
    "header_vste=['satzart','uid','classf','pvguid','aennr','splitcnt','datum_pvs_low','datum_ns_low','datum_sop_low','datub_pvs_fr','datub_ns_fr','datub_sop_fr','datub_pvs_sp','datub_ns_sp','datub_sop_sp','herkunft','errflg']\n",
    "header_vsfr=['satzart','uid','pvguid','classf','aennr','splitcnt','frart','value','vgnum','infotr','franr','frnnr','fdate','ftime','aeind','dmupru','dummy','ftarg','frsta','frzte','marke','afreis','frben','herkunft']\n",
    "widths_vskl=[4,1,18,18,10,10,10,60]\n",
    "widths_vskb=[4,1,18,32,32,4,1]\n",
    "widths_vsva=[4,1,18,32,12,32,8,8,1,18,13,3,1,5,4,2,1,2,1,3,3,6,3,4,1,1,6,1,3,1,3,3,13,1,4,4,4,4,4,4,4,4,4,4,2,2,2,1,6,6,1,1,12,30,8,8,8,8,8,8,1,1,3,3,60,1,1,1,1,32,8,3,8,2,8,2,1,1]\n",
    "widths_vskt=[4,1,32,2,60,1]\n",
    "widths_vskn=[4,1,32,18,40,8,18,1,4,1,36,3,3,2,1,1,1,12,80,1,12,80,1,12,80,1,12,80,1,12,80,1,12,80,9,32,60,4,1,32,10,18]\n",
    "widths_vssp=[4,1,18,32,12,8,6,12,30,12,30,80,4,9,9,32,1,3,6,3,32,1,4,4,4,4,4,4,4,4,4,1,1,13,6,6,1]\n",
    "widths_vste=[4,1,18,32,12,8,8,8,8,8,8,8,8,8,8,1,1]\n",
    "widths_vsfr=[4,1,32,18,12,8,1,3,18,18,12,2,8,6,4,3,40,8,10,8,20,12,80,1]\n",
    "headers={\n",
    "    'vskl' : ['satzart','uid','classf','class','clintf','clint','klagr','txtbz'],\n",
    "    'vskb' : ['satzart','uid','classf','pnguid_s','pnguid_v','rank','herkunft'],\n",
    "    'vsva' : ['satzart','uid','classf','pvguid','aennr','pnguid','pvname','pvtype','loekz','matnr','quant','qunit','fe_ae_st','abw_schl','aggr','auf_schl','dummy15','dmu_rel','mee','mod','paket_kz','dummy1','dummy2','kostgr','gew_stk','tma_klag','arb_pkt','kd_kz','mod_z','konstgr','se_team','pr_stkz','taed_bem','dummy4','dummy5','dummy6','dummy7','dummy8','dummy9','dummy10','dummy11','dummy12','dummy13','wwfall','wahlw_nr','vwwwfall','vwwwnr','leerteil','dummy18','dummy19','dummy20','dummy_v','dummy22','dummy23','p_target_date','g_target_date','w_target_date','b_target_date','r_target_date','d_target_date','bereich','u_abteil','anlart','se_teamp','pvtext','mj_ein','mj_aus','bkflg','bk_status','dummy3','seqcnt','kar_aenr','vsi_b_date','vsi_b_chg','vsi_k_date','vsi_k_chg','prio_mark','herkunft'],\n",
    "    'vskt' : ['satzart','uid','pnguid','spras','pntext','herkunft'],\n",
    "    'vskn' : ['satzart','uid','pnguid','classf','pname','pntype','class','geb_aufl','kostgr_k','konstr_k','st_name','se_teamk','pr_stkzk','fogs_kz','bereichk','uabteilk','pfr_kz','pfr_user','pfr_komm','gfr_kz','gfr_user','gfr_komm','wfr_kz','wfr_user','wfr_komm','bfr_kz','bfr_user','bfr_komm','rfr_kz','rfr_user','rfr_komm','dfr_kz','dfr_user','dfr_komm','kbblock','mkguid','pntext','diag_adr','herkunft','pnguid_q','kps_clint','kps_class'],\n",
    "    'vssp' : ['satzart','uid','classf','pvguid','aennr','splitcnt','pnguidnr','einsatzint','einsatzext','entfallint','entfallext','tegue','avon_status','vws_tmp','vws','col_pnguid','col_bst','col_family','takt','umfang','urguid','teileart','verbr1','verbr2','verbr3','verbr4','verbr5','verbr6','fert1','fert2','fert3','herkunft','bea_st','taed_bem','taktvo','taktna','feaest_t'],\n",
    "    'vste' : ['satzart','uid','classf','pvguid','aennr','splitcnt','datum_pvs_low','datum_ns_low','datum_sop_low','datub_pvs_fr','datub_ns_fr','datub_sop_fr','datub_pvs_sp','datub_ns_sp','datub_sop_sp','herkunft','errflg'],\n",
    "    'vsfr' : ['satzart','uid','pvguid','classf','aennr','splitcnt','frart','value','vgnum','infotr','franr','frnnr','fdate','ftime','aeind','dmupru','dummy','ftarg','frsta','frzte','marke','afreis','frben','herkunft']\n",
    "}\n",
    "widths={\n",
    "    'vskl' : [4,1,18,18,10,10,10,60],\n",
    "    'vskb' : [4,1,18,32,32,4,1],\n",
    "    'vsva' : [4,1,18,32,12,32,8,8,1,18,13,3,1,5,4,2,1,2,1,3,3,6,3,4,1,1,6,1,3,1,3,3,13,1,4,4,4,4,4,4,4,4,4,4,2,2,2,1,6,6,1,1,12,30,8,8,8,8,8,8,1,1,3,3,60,1,1,1,1,32,8,3,8,2,8,2,1,1],\n",
    "    'vskt' : [4,1,32,2,60,1],\n",
    "    'vskn' : [4,1,32,18,40,8,18,1,4,1,36,3,3,2,1,1,1,12,80,1,12,80,1,12,80,1,12,80,1,12,80,1,12,80,9,32,60,4,1,32,10,18],\n",
    "    'vssp' : [4,1,18,32,12,8,6,12,30,12,30,80,4,9,9,32,1,3,6,3,32,1,4,4,4,4,4,4,4,4,4,1,1,13,6,6,1],\n",
    "    'vste' : [4,1,18,32,12,8,8,8,8,8,8,8,8,8,8,1,1],\n",
    "    'vsfr' : [4,1,32,18,12,8,1,3,18,18,12,2,8,6,4,3,40,8,10,8,20,12,80,1]\n",
    "}\n",
    "encodings={\n",
    "    'vskl' : 'ascii',\n",
    "    'vskb' : 'ascii',\n",
    "    'vsva' : 'latin_1',\n",
    "    'vskt' : 'latin_1',\n",
    "    'vskn' : 'latin_1',\n",
    "    'vssp' : 'ascii',\n",
    "    'vste' : 'ascii',\n",
    "    'vsfr' : 'latin_1'\n",
    "} # VSKT changed from Ascii to Latin"
   ]
  },
  {
   "cell_type": "code",
   "execution_count": 37,
   "metadata": {},
   "outputs": [
    {
     "name": "stdout",
     "output_type": "stream",
     "text": [
      "reponse=True\n",
      "reponse=True\n",
      "reponse=True\n",
      "reponse=True\n",
      "reponse=True\n",
      "reponse=True\n",
      "reponse=True\n",
      "reponse=True\n"
     ]
    }
   ],
   "source": [
    "def download_file(file_name, bucket, object_name=None):\n",
    "    \"\"\"Download a file from an S3 bucket\n",
    "\n",
    "    :param file_name: File to upload\n",
    "    :param bucket: Bucket to upload to\n",
    "    :param object_name: S3 object name. If not specified then file_name is used\n",
    "    :return: True if file was uploaded, else False\n",
    "    \"\"\"\n",
    "\n",
    "    # If S3 object_name was not specified, use file_name\n",
    "    if object_name is None:\n",
    "        object_name = file_name\n",
    "\n",
    "    # Download the file\n",
    "    s3_client = boto3.client('s3')\n",
    "    \n",
    "    logging.debug(f'bucket={bucket}\\nobject_name={object_name}\\nfile_name={file_name}')\n",
    "    \n",
    "    try:\n",
    "        response = s3_client.download_file(bucket, object_name, file_name)\n",
    "    except ClientError as e:\n",
    "        logging.error(e)\n",
    "        return False\n",
    "    return True\n",
    "\n",
    "bucket = 'rapid-dw'\n",
    "folder_name = '2020-10-08_Gesamt'\n",
    "\n",
    "for type in vars:\n",
    "    file_name = f'POCTIKWH.{type.upper()}.G'\n",
    "    object_name = folder_name + '/' + file_name\n",
    "    response = download_file(file_name, bucket, object_name)\n",
    "    print(f'reponse={response}')"
   ]
  },
  {
   "cell_type": "code",
   "execution_count": 46,
   "metadata": {},
   "outputs": [
    {
     "name": "stdout",
     "output_type": "stream",
     "text": [
      "<class 'pandas.core.frame.DataFrame'>\n",
      "RangeIndex: 70000 entries, 0 to 69999\n",
      "Data columns (total 78 columns):\n",
      " #   Column         Non-Null Count  Dtype  \n",
      "---  ------         --------------  -----  \n",
      " 0   satzart        70000 non-null  object \n",
      " 1   uid            0 non-null      float64\n",
      " 2   classf         70000 non-null  object \n",
      " 3   pvguid         70000 non-null  object \n",
      " 4   aennr          70000 non-null  int64  \n",
      " 5   pnguid         70000 non-null  object \n",
      " 6   pvname         70000 non-null  object \n",
      " 7   pvtype         70000 non-null  object \n",
      " 8   loekz          34028 non-null  object \n",
      " 9   matnr          34044 non-null  object \n",
      " 10  quant          70000 non-null  float64\n",
      " 11  qunit          34479 non-null  object \n",
      " 12  fe_ae_st       35809 non-null  object \n",
      " 13  abw_schl       35473 non-null  object \n",
      " 14  aggr           163 non-null    object \n",
      " 15  auf_schl       34543 non-null  object \n",
      " 16  dummy15        35972 non-null  object \n",
      " 17  dmu_rel        16 non-null     object \n",
      " 18  mee            436 non-null    object \n",
      " 19  mod            6422 non-null   object \n",
      " 20  paket_kz       10 non-null     object \n",
      " 21  dummy1         0 non-null      float64\n",
      " 22  dummy2         0 non-null      float64\n",
      " 23  kostgr         35712 non-null  object \n",
      " 24  gew_stk        17888 non-null  object \n",
      " 25  tma_klag       35972 non-null  object \n",
      " 26  arb_pkt        27708 non-null  object \n",
      " 27  kd_kz          1058 non-null   object \n",
      " 28  mod_z          658 non-null    object \n",
      " 29  konstgr        35695 non-null  object \n",
      " 30  se_team        35808 non-null  object \n",
      " 31  pr_stkz        178 non-null    object \n",
      " 32  taed_bem       3 non-null      object \n",
      " 33  dummy4         0 non-null      float64\n",
      " 34  dummy5         0 non-null      float64\n",
      " 35  dummy6         0 non-null      float64\n",
      " 36  dummy7         0 non-null      float64\n",
      " 37  dummy8         0 non-null      float64\n",
      " 38  dummy9         0 non-null      float64\n",
      " 39  dummy10        0 non-null      float64\n",
      " 40  dummy11        0 non-null      float64\n",
      " 41  dummy12        0 non-null      float64\n",
      " 42  dummy13        0 non-null      float64\n",
      " 43  wwfall         70000 non-null  int64  \n",
      " 44  wahlw_nr       70000 non-null  int64  \n",
      " 45  vwwwfall       1186 non-null   object \n",
      " 46  vwwwnr         1190 non-null   float64\n",
      " 47  leerteil       1432 non-null   object \n",
      " 48  dummy18        0 non-null      float64\n",
      " 49  dummy19        0 non-null      float64\n",
      " 50  dummy20        1217 non-null   object \n",
      " 51  dummy_v        12 non-null     object \n",
      " 52  dummy22        25640 non-null  float64\n",
      " 53  dummy23        25640 non-null  object \n",
      " 54  p_target_date  70000 non-null  int64  \n",
      " 55  g_target_date  70000 non-null  int64  \n",
      " 56  w_target_date  70000 non-null  int64  \n",
      " 57  b_target_date  70000 non-null  int64  \n",
      " 58  r_target_date  70000 non-null  int64  \n",
      " 59  d_target_date  70000 non-null  int64  \n",
      " 60  bereich        35769 non-null  object \n",
      " 61  u_abteil       1701 non-null   float64\n",
      " 62  anlart         0 non-null      float64\n",
      " 63  se_teamp       27839 non-null  object \n",
      " 64  pvtext         21187 non-null  object \n",
      " 65  mj_ein         373 non-null    object \n",
      " 66  mj_aus         169 non-null    object \n",
      " 67  bkflg          1304 non-null   object \n",
      " 68  bk_status      1304 non-null   object \n",
      " 69  dummy3         0 non-null      float64\n",
      " 70  seqcnt         70000 non-null  int64  \n",
      " 71  kar_aenr       313 non-null    float64\n",
      " 72  vsi_b_date     70000 non-null  int64  \n",
      " 73  vsi_b_chg      0 non-null      float64\n",
      " 74  vsi_k_date     70000 non-null  int64  \n",
      " 75  vsi_k_chg      0 non-null      float64\n",
      " 76  prio_mark      0 non-null      float64\n",
      " 77  herkunft       70000 non-null  object \n",
      "dtypes: float64(25), int64(12), object(41)\n",
      "memory usage: 41.7+ MB\n"
     ]
    }
   ],
   "source": [
    "bucket='rapid-dw'\n",
    "type = 'vsva'\n",
    "file=f'2020-10-08_Gesamt/POCTIKWH.{type.upper()}.G'\n",
    "\n",
    "data_source = {\n",
    "        'Bucket': bucket,\n",
    "        'Key': file\n",
    "    }\n",
    "# Generate the URL to get Key from Bucket\n",
    "url = s3_client.generate_presigned_url(\n",
    "    ClientMethod = 'get_object',\n",
    "    Params = data_source\n",
    ")\n",
    "\n",
    "data = pd.read_fwf(url, widths=widths[type], header=None, encoding=encodings[type], names=headers[type], nrows=70000)\n",
    "data.info()"
   ]
  },
  {
   "cell_type": "code",
   "execution_count": 49,
   "metadata": {},
   "outputs": [
    {
     "name": "stdout",
     "output_type": "stream",
     "text": [
      "File type \"vskl\" has path: 2020-10-08_Gesamt/POCTIKWH.VSKL.G\n",
      "File type \"vskb\" has path: 2020-10-08_Gesamt/POCTIKWH.VSKB.G\n",
      "File type \"vsva\" has path: 2020-10-08_Gesamt/POCTIKWH.VSVA.G\n",
      "File type \"vskt\" has path: 2020-10-08_Gesamt/POCTIKWH.VSKT.G\n",
      "File type \"vskn\" has path: 2020-10-08_Gesamt/POCTIKWH.VSKN.G\n",
      "File type \"vssp\" has path: 2020-10-08_Gesamt/POCTIKWH.VSSP.G\n",
      "File type \"vste\" has path: 2020-10-08_Gesamt/POCTIKWH.VSTE.G\n",
      "File type \"vsfr\" has path: 2020-10-08_Gesamt/POCTIKWH.VSFR.G\n"
     ]
    }
   ],
   "source": [
    "def read_file(bucket, file, widths=None, header=None, encoding=None):\n",
    "    data_source = {\n",
    "            'Bucket': bucket,\n",
    "            'Key': file\n",
    "        }\n",
    "    # Generate the URL to get Key from Bucket\n",
    "    url = s3_client.generate_presigned_url(\n",
    "        ClientMethod = 'get_object',\n",
    "        Params = data_source\n",
    "    )\n",
    "\n",
    "    compression=\"infer\"\n",
    "    #dataframe = pd.read_fwf(url, widths=widths, header=header, nrows=10)\n",
    "    dataframe = pd.read_fwf(url, widths=widths, header=None, names=header, compression=compression, encoding=encoding)\n",
    "    return dataframe\n",
    "\n",
    "# result = read_file('rapid-dw','2020-10-08_Gesamt/POCTIKWH.VSTE.G', widths=widths_vste, header=header_vste)\n",
    "# result.info()\n",
    "\n",
    "bucket='rapid-dw'\n",
    "data = {}\n",
    "for type in vars:\n",
    "    file_name=f'2020-10-08_Gesamt/POCTIKWH.{type.upper()}.G'\n",
    "    print(f'File type \"{type}\" has path: {file_name}')\n",
    "#     print(f'File type \"{type}\" has widths {widths[type]}.')\n",
    "#     print(f'File type \"{type}\" has columns {headers[type]}.')\n",
    "    data[type] = read_file(bucket, file_name, widths=widths[type], header=headers[type], encoding=encodings[type])\n",
    "    \n"
   ]
  },
  {
   "cell_type": "code",
   "execution_count": 52,
   "metadata": {},
   "outputs": [
    {
     "data": {
      "text/plain": [
       "dict_keys(['vskl', 'vskb', 'vsva', 'vskt', 'vskn', 'vssp', 'vste', 'vsfr'])"
      ]
     },
     "execution_count": 52,
     "metadata": {},
     "output_type": "execute_result"
    }
   ],
   "source": [
    "data.keys()"
   ]
  },
  {
   "cell_type": "code",
   "execution_count": 55,
   "metadata": {},
   "outputs": [
    {
     "data": {
      "text/plain": [
       "368"
      ]
     },
     "execution_count": 55,
     "metadata": {},
     "output_type": "execute_result"
    }
   ],
   "source": [
    "# data.__sizeof__()\n",
    "import sys\n",
    "sys.getsizeof(data)"
   ]
  },
  {
   "cell_type": "code",
   "execution_count": null,
   "metadata": {},
   "outputs": [],
   "source": [
    "# file_name=\"test.parquet\"\n",
    "# result.to_parquet(file_name, engine=\"pyarrow\")"
   ]
  },
  {
   "cell_type": "code",
   "execution_count": null,
   "metadata": {},
   "outputs": [],
   "source": [
    "path = \"working/inbound/vste.parquet\"\n",
    "wr.s3.to_parquet(\n",
    "    df=result,\n",
    "    path=\"s3://\" + bucket + \"/\" + path\n",
    ")\n",
    "\n"
   ]
  },
  {
   "cell_type": "code",
   "execution_count": null,
   "metadata": {},
   "outputs": [],
   "source": [
    "# out = pd.read_parquet(file_name, engine=\"pyarrow\")\n",
    "# out.info()"
   ]
  }
 ],
 "metadata": {
  "kernelspec": {
   "display_name": "conda_python3",
   "language": "python",
   "name": "conda_python3"
  },
  "language_info": {
   "codemirror_mode": {
    "name": "ipython",
    "version": 3
   },
   "file_extension": ".py",
   "mimetype": "text/x-python",
   "name": "python",
   "nbconvert_exporter": "python",
   "pygments_lexer": "ipython3",
   "version": "3.6.10"
  }
 },
 "nbformat": 4,
 "nbformat_minor": 4
}
